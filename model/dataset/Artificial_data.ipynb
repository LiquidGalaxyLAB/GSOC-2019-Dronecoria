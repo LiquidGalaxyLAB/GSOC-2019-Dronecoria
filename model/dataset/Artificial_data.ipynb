{
 "cells": [
  {
   "cell_type": "code",
   "execution_count": 1,
   "metadata": {},
   "outputs": [],
   "source": [
    "from PIL import Image\n",
    "import numpy as np\n",
    "import random\n",
    "import copy\n",
    "%matplotlib inline\n",
    "import matplotlib.pyplot as plt\n",
    "import pandas as pd\n",
    "import glob"
   ]
  },
  {
   "cell_type": "markdown",
   "metadata": {},
   "source": [
    "### 1st Step: Obtain the forest image and the 'burnt region' used to simulate the burnt area"
   ]
  },
  {
   "cell_type": "code",
   "execution_count": 2,
   "metadata": {},
   "outputs": [],
   "source": [
    "def convert_to_grayscale(image):\n",
    "    grayscale = image.convert(\"L\")\n",
    "    return grayscale\n",
    "\n",
    "\n",
    "def obtain_img_burnt(image_name, burnt_name):\n",
    "    img = Image.open(image_name).convert(\"RGB\")\n",
    "    burnt = Image.open(burnt_name)\n",
    "    burnt_array = np.array(burnt)\n",
    "    grayscale = convert_to_grayscale(img)\n",
    "    array_grayscale = np.stack((grayscale,)*3, axis=-1)\n",
    "    return img, array_grayscale, burnt"
   ]
  },
  {
   "cell_type": "markdown",
   "metadata": {},
   "source": [
    "### 2nd Step: All the image put as grayscale and put some pixels fo burnt area  "
   ]
  },
  {
   "cell_type": "code",
   "execution_count": 3,
   "metadata": {},
   "outputs": [],
   "source": [
    "def burnt_all(array_image, array_grayscale, burnt_array):\n",
    "    new_image = copy.deepcopy(array_grayscale)\n",
    "    for i in range(0, array_image.shape[0]):\n",
    "        for j in range(0, array_image.shape[1]):\n",
    "            #for rgb in range(0, 1):\n",
    "            new_image[i][j][0] = burnt_array[i%burnt_array.shape[0]][j%burnt_array.shape[1]][0] \n",
    "            new_image[i][j][2] = burnt_array[i%burnt_array.shape[0]][j%burnt_array.shape[1]][2]                \n",
    "            if random.random()<0.15:\n",
    "                new_image[i][j][1] = burnt_array[i%burnt_array.shape[0]][j%burnt_array.shape[1]][1]                \n",
    "\n",
    "    img_modified = Image.fromarray(new_image)\n",
    "    gray_img_modified = np.stack((convert_to_grayscale(img_modified),)*3, axis=-1)\n",
    "    for i in range(0, gray_img_modified.shape[0]):\n",
    "        for j in range(0, gray_img_modified.shape[1]):\n",
    "            gray_img_modified[i][j][2] = gray_img_modified[i][j][2] + 3\n",
    "    return gray_img_modified"
   ]
  },
  {
   "cell_type": "markdown",
   "metadata": {},
   "source": [
    "### 3rd Step: Obtain which region will be burnt area:"
   ]
  },
  {
   "cell_type": "code",
   "execution_count": 4,
   "metadata": {},
   "outputs": [],
   "source": [
    "def burnt_region(region_array):\n",
    "    for i in range(0, region_array.shape[0]):\n",
    "        for j in range(0, region_array.shape[1]):\n",
    "            if not np.array_equal(region_array[i][j],np.array([0, 0, 0])):\n",
    "                region_array[i][j] = np.array([255, 0, 255 ])\n",
    "    return region_array"
   ]
  },
  {
   "cell_type": "markdown",
   "metadata": {},
   "source": [
    "### 4th Step: Finally put the burnt region correctly and fill with the correct colour."
   ]
  },
  {
   "cell_type": "code",
   "execution_count": 5,
   "metadata": {},
   "outputs": [],
   "source": [
    "def add_burnt_region(img, all_burnt_array, region_array, alpha, position):\n",
    "    img_array = np.array(img)\n",
    "    background = Image.fromarray(img_array)\n",
    "    background.paste(Image.fromarray(region_array), position)\n",
    "    background = background.convert(\"RGB\")\n",
    "    background_array = np.array(background)\n",
    "    for i in range(0, background_array.shape[0]):\n",
    "        for j in range(0, background_array.shape[1]):\n",
    "            if np.array_equal(background_array[i][j], np.array([240, 0, 0])):\n",
    "                background_array[i][j] = all_burnt_array[i][j] \n",
    "            else:\n",
    "                background_array[i][j] = img_array[i][j]\n",
    "    background = Image.fromarray(background_array)\n",
    "    return background"
   ]
  },
  {
   "cell_type": "markdown",
   "metadata": {},
   "source": [
    "### 5th Step: Finally put the burnt region correctly and fill with the correct colour."
   ]
  },
  {
   "cell_type": "code",
   "execution_count": 6,
   "metadata": {},
   "outputs": [],
   "source": [
    "def generate_segmented_image(img, region_array, position, image_name):\n",
    "    n, m, rgb = np.array(img).shape\n",
    "    image = Image.new('RGB', (m, n))\n",
    "    region = Image.fromarray(region_array)\n",
    "    image.paste(region, position)\n",
    "    print(\"> Generated segmented image\")\n",
    "    image.save(image_name.replace(\"images_located\", \"images_located_segmented\").replace(\".jpg\",\".png\"))"
   ]
  },
  {
   "cell_type": "code",
   "execution_count": null,
   "metadata": {},
   "outputs": [],
   "source": []
  },
  {
   "cell_type": "markdown",
   "metadata": {},
   "source": [
    "### 6th Step: Final pipe line"
   ]
  },
  {
   "cell_type": "code",
   "execution_count": 7,
   "metadata": {},
   "outputs": [],
   "source": [
    "def generate_image(image_name, burnt_name, region_name, alpha, position):\n",
    "    print(\"> Starting to process image: '%s' with burnt region '%s' and region '%s'.\" % ((image_name, burnt_name, region_name)))\n",
    "    img, array_grayscale, burnt = obtain_img_burnt(image_name, burnt_name)\n",
    "    print(\"> 1st step done.\")\n",
    "    all_burnt_array = burnt_all(np.array(img), array_grayscale, np.array(burnt))\n",
    "    print(\"> 2nd step done.\")\n",
    "    region_array = np.array(Image.open(region_name))\n",
    "    print(\"> 3rd step done.\")\n",
    "    generate_segmented_image(img, region_array, position, image_name)\n",
    "    result_image = add_burnt_region(img, all_burnt_array, region_array, alpha, position)\n",
    "    print(\"> 4th step done.\")\n",
    "    name = green.replace(\".png\", \"_%s_.png\"% region.replace(\"regions/\",\"\").replace(\".png\", \"\"))\n",
    "    result_image.save(image_name.replace(\"images_located\", \"images_located_burnt\"))\n",
    "    print(\"-------- SAVED --------\")"
   ]
  },
  {
   "cell_type": "markdown",
   "metadata": {},
   "source": [
    "### Image generation"
   ]
  },
  {
   "cell_type": "code",
   "execution_count": 8,
   "metadata": {},
   "outputs": [],
   "source": [
    "region_files = ['regions/region16.png', 'regions/region26.png', 'regions/region58.png', 'regions/region37.png']"
   ]
  },
  {
   "cell_type": "code",
   "execution_count": null,
   "metadata": {},
   "outputs": [],
   "source": []
  },
  {
   "cell_type": "code",
   "execution_count": 10,
   "metadata": {},
   "outputs": [
    {
     "name": "stdout",
     "output_type": "stream",
     "text": [
      "> Starting to process image: 'images_located/Captura11.png' with burnt region 'burnt.png' and region 'regions/region58.png'.\n",
      "> 1st step done.\n",
      "> 2nd step done.\n",
      "> 3rd step done.\n",
      "> Generated segmented image\n",
      "> 4th step done.\n",
      "-------- SAVED --------\n",
      "> Starting to process image: 'images_located/Captura10.png' with burnt region 'burnt.png' and region 'regions/region16.png'.\n",
      "> 1st step done.\n",
      "> 2nd step done.\n",
      "> 3rd step done.\n",
      "> Generated segmented image\n",
      "> 4th step done.\n",
      "-------- SAVED --------\n",
      "> Starting to process image: 'images_located/Captura12.png' with burnt region 'burnt.png' and region 'regions/region16.png'.\n",
      "> 1st step done.\n",
      "> 2nd step done.\n",
      "> 3rd step done.\n",
      "> Generated segmented image\n",
      "> 4th step done.\n",
      "-------- SAVED --------\n",
      "> Starting to process image: 'images_located/Captura13.png' with burnt region 'burnt.png' and region 'regions/region26.png'.\n",
      "> 1st step done.\n",
      "> 2nd step done.\n",
      "> 3rd step done.\n",
      "> Generated segmented image\n",
      "> 4th step done.\n",
      "-------- SAVED --------\n",
      "> Starting to process image: 'images_located/Captura17.png' with burnt region 'burnt.png' and region 'regions/region58.png'.\n",
      "> 1st step done.\n",
      "> 2nd step done.\n",
      "> 3rd step done.\n",
      "> Generated segmented image\n",
      "> 4th step done.\n",
      "-------- SAVED --------\n",
      "> Starting to process image: 'images_located/Captura16.png' with burnt region 'burnt.png' and region 'regions/region37.png'.\n",
      "> 1st step done.\n",
      "> 2nd step done.\n",
      "> 3rd step done.\n",
      "> Generated segmented image\n",
      "> 4th step done.\n",
      "-------- SAVED --------\n",
      "> Starting to process image: 'images_located/Captura9.png' with burnt region 'burnt.png' and region 'regions/region37.png'.\n",
      "> 1st step done.\n",
      "> 2nd step done.\n",
      "> 3rd step done.\n",
      "> Generated segmented image\n",
      "> 4th step done.\n",
      "-------- SAVED --------\n",
      "> Starting to process image: 'images_located/Captura14.png' with burnt region 'burnt.png' and region 'regions/region37.png'.\n",
      "> 1st step done.\n",
      "> 2nd step done.\n",
      "> 3rd step done.\n",
      "> Generated segmented image\n",
      "> 4th step done.\n",
      "-------- SAVED --------\n",
      "> Starting to process image: 'images_located/Captura15.png' with burnt region 'burnt.png' and region 'regions/region37.png'.\n",
      "> 1st step done.\n",
      "> 2nd step done.\n",
      "> 3rd step done.\n",
      "> Generated segmented image\n",
      "> 4th step done.\n",
      "-------- SAVED --------\n",
      "> Starting to process image: 'images_located/Captura8.png' with burnt region 'burnt.png' and region 'regions/region16.png'.\n",
      "> 1st step done.\n",
      "> 2nd step done.\n",
      "> 3rd step done.\n",
      "> Generated segmented image\n",
      "> 4th step done.\n",
      "-------- SAVED --------\n",
      "> Starting to process image: 'images_located/Captura5.png' with burnt region 'burnt.png' and region 'regions/region26.png'.\n",
      "> 1st step done.\n",
      "> 2nd step done.\n",
      "> 3rd step done.\n",
      "> Generated segmented image\n",
      "> 4th step done.\n",
      "-------- SAVED --------\n",
      "> Starting to process image: 'images_located/Captura18.png' with burnt region 'burnt.png' and region 'regions/region16.png'.\n",
      "> 1st step done.\n",
      "> 2nd step done.\n",
      "> 3rd step done.\n",
      "> Generated segmented image\n",
      "> 4th step done.\n",
      "-------- SAVED --------\n",
      "> Starting to process image: 'images_located/Captura24.png' with burnt region 'burnt.png' and region 'regions/region26.png'.\n",
      "> 1st step done.\n",
      "> 2nd step done.\n",
      "> 3rd step done.\n",
      "> Generated segmented image\n",
      "> 4th step done.\n",
      "-------- SAVED --------\n",
      "> Starting to process image: 'images_located/Captura25.png' with burnt region 'burnt.png' and region 'regions/region16.png'.\n",
      "> 1st step done.\n",
      "> 2nd step done.\n",
      "> 3rd step done.\n",
      "> Generated segmented image\n",
      "> 4th step done.\n",
      "-------- SAVED --------\n",
      "> Starting to process image: 'images_located/Captura19.png' with burnt region 'burnt.png' and region 'regions/region58.png'.\n",
      "> 1st step done.\n",
      "> 2nd step done.\n",
      "> 3rd step done.\n",
      "> Generated segmented image\n",
      "> 4th step done.\n",
      "-------- SAVED --------\n",
      "> Starting to process image: 'images_located/Captura4.png' with burnt region 'burnt.png' and region 'regions/region37.png'.\n",
      "> 1st step done.\n",
      "> 2nd step done.\n",
      "> 3rd step done.\n",
      "> Generated segmented image\n",
      "> 4th step done.\n",
      "-------- SAVED --------\n",
      "> Starting to process image: 'images_located/Captura6.png' with burnt region 'burnt.png' and region 'regions/region16.png'.\n",
      "> 1st step done.\n",
      "> 2nd step done.\n",
      "> 3rd step done.\n",
      "> Generated segmented image\n",
      "> 4th step done.\n",
      "-------- SAVED --------\n",
      "> Starting to process image: 'images_located/Captura7.png' with burnt region 'burnt.png' and region 'regions/region26.png'.\n",
      "> 1st step done.\n",
      "> 2nd step done.\n",
      "> 3rd step done.\n",
      "> Generated segmented image\n",
      "> 4th step done.\n",
      "-------- SAVED --------\n",
      "> Starting to process image: 'images_located/Captura3.png' with burnt region 'burnt.png' and region 'regions/region16.png'.\n",
      "> 1st step done.\n",
      "> 2nd step done.\n",
      "> 3rd step done.\n",
      "> Generated segmented image\n",
      "> 4th step done.\n",
      "-------- SAVED --------\n",
      "> Starting to process image: 'images_located/Captura22.png' with burnt region 'burnt.png' and region 'regions/region26.png'.\n",
      "> 1st step done.\n",
      "> 2nd step done.\n",
      "> 3rd step done.\n",
      "> Generated segmented image\n",
      "> 4th step done.\n",
      "-------- SAVED --------\n",
      "> Starting to process image: 'images_located/Captura23.png' with burnt region 'burnt.png' and region 'regions/region58.png'.\n",
      "> 1st step done.\n",
      "> 2nd step done.\n",
      "> 3rd step done.\n",
      "> Generated segmented image\n",
      "> 4th step done.\n",
      "-------- SAVED --------\n",
      "> Starting to process image: 'images_located/Captura2.png' with burnt region 'burnt.png' and region 'regions/region58.png'.\n",
      "> 1st step done.\n",
      "> 2nd step done.\n",
      "> 3rd step done.\n",
      "> Generated segmented image\n",
      "> 4th step done.\n",
      "-------- SAVED --------\n",
      "> Starting to process image: 'images_located/Captura21.png' with burnt region 'burnt.png' and region 'regions/region26.png'.\n",
      "> 1st step done.\n",
      "> 2nd step done.\n",
      "> 3rd step done.\n",
      "> Generated segmented image\n",
      "> 4th step done.\n",
      "-------- SAVED --------\n",
      "> Starting to process image: 'images_located/Captura20.png' with burnt region 'burnt.png' and region 'regions/region58.png'.\n",
      "> 1st step done.\n",
      "> 2nd step done.\n",
      "> 3rd step done.\n",
      "> Generated segmented image\n",
      "> 4th step done.\n",
      "-------- SAVED --------\n",
      "> Starting to process image: 'images_located/Captura1.png' with burnt region 'burnt.png' and region 'regions/region58.png'.\n",
      "> 1st step done.\n",
      "> 2nd step done.\n",
      "> 3rd step done.\n",
      "> Generated segmented image\n",
      "> 4th step done.\n",
      "-------- SAVED --------\n"
     ]
    }
   ],
   "source": [
    "green_files = glob.glob(\"images_located/Cap*.png\")\n",
    "burnt_name = \"burnt.png\"\n",
    "metadata = {'id_green':[], 'id_region':[], 'position':[], 'id_result':[]}\n",
    "for green in green_files:\n",
    "    w, h = Image.open(green).size\n",
    "    position = (random.randint(10, round(w/3)), random.randint(10, round(h/3)))\n",
    "    region_name = region_files[random.randint(0, len(region_files)-1)]\n",
    "    metadata['id_green'] += [green]\n",
    "    metadata['id_region'] += [region_name]\n",
    "    metadata['position'] += [position]\n",
    "    metadata['id_result'] += [green.replace(\"images_located\", \"images_located_burnt\")]\n",
    "    result_image = generate_image(green, burnt_name, region_name, 0.9, position)\n"
   ]
  },
  {
   "cell_type": "code",
   "execution_count": 11,
   "metadata": {},
   "outputs": [],
   "source": [
    "pd.DataFrame(metadata).to_csv(\"metadata_images_located.csv\")\n"
   ]
  },
  {
   "cell_type": "markdown",
   "metadata": {},
   "source": []
  },
  {
   "cell_type": "code",
   "execution_count": 31,
   "metadata": {},
   "outputs": [
    {
     "data": {
      "text/html": [
       "<div>\n",
       "<style scoped>\n",
       "    .dataframe tbody tr th:only-of-type {\n",
       "        vertical-align: middle;\n",
       "    }\n",
       "\n",
       "    .dataframe tbody tr th {\n",
       "        vertical-align: top;\n",
       "    }\n",
       "\n",
       "    .dataframe thead th {\n",
       "        text-align: right;\n",
       "    }\n",
       "</style>\n",
       "<table border=\"1\" class=\"dataframe\">\n",
       "  <thead>\n",
       "    <tr style=\"text-align: right;\">\n",
       "      <th></th>\n",
       "      <th>Unnamed: 0</th>\n",
       "      <th>region_id</th>\n",
       "      <th>area</th>\n",
       "    </tr>\n",
       "  </thead>\n",
       "  <tbody>\n",
       "    <tr>\n",
       "      <th>0</th>\n",
       "      <td>0</td>\n",
       "      <td>regions/region47.png</td>\n",
       "      <td>19.9491</td>\n",
       "    </tr>\n",
       "    <tr>\n",
       "      <th>1</th>\n",
       "      <td>1</td>\n",
       "      <td>regions/region53.png</td>\n",
       "      <td>14.4750</td>\n",
       "    </tr>\n",
       "    <tr>\n",
       "      <th>2</th>\n",
       "      <td>2</td>\n",
       "      <td>regions/region84.png</td>\n",
       "      <td>17.6589</td>\n",
       "    </tr>\n",
       "    <tr>\n",
       "      <th>3</th>\n",
       "      <td>3</td>\n",
       "      <td>regions/region90.png</td>\n",
       "      <td>23.3904</td>\n",
       "    </tr>\n",
       "    <tr>\n",
       "      <th>4</th>\n",
       "      <td>4</td>\n",
       "      <td>regions/region91.png</td>\n",
       "      <td>11.5563</td>\n",
       "    </tr>\n",
       "  </tbody>\n",
       "</table>\n",
       "</div>"
      ],
      "text/plain": [
       "   Unnamed: 0             region_id     area\n",
       "0           0  regions/region47.png  19.9491\n",
       "1           1  regions/region53.png  14.4750\n",
       "2           2  regions/region84.png  17.6589\n",
       "3           3  regions/region90.png  23.3904\n",
       "4           4  regions/region91.png  11.5563"
      ]
     },
     "execution_count": 31,
     "metadata": {},
     "output_type": "execute_result"
    }
   ],
   "source": [
    "import pandas as pd\n",
    "import glob\n",
    "\n",
    "image = \"images_located/Captura17.png\"\n",
    "df_images_located = pd.read_csv(\"metadata_images_located.csv\")\n",
    "df_regions = pd.read_csv(\"regions.csv\")\n",
    "df_regions.head()"
   ]
  },
  {
   "cell_type": "code",
   "execution_count": 32,
   "metadata": {},
   "outputs": [],
   "source": [
    "region = df_images_located[df_images_located['id_green'] == image]['id_region'].values[0]\n",
    "area = df_regions[df_regions['region_id'] == region]['area'].values[0]"
   ]
  },
  {
   "cell_type": "code",
   "execution_count": 34,
   "metadata": {},
   "outputs": [
    {
     "data": {
      "text/plain": [
       "'regions/region58.png'"
      ]
     },
     "execution_count": 34,
     "metadata": {},
     "output_type": "execute_result"
    }
   ],
   "source": [
    "region"
   ]
  }
 ],
 "metadata": {
  "kernelspec": {
   "display_name": "Python 3",
   "language": "python",
   "name": "python3"
  },
  "language_info": {
   "codemirror_mode": {
    "name": "ipython",
    "version": 3
   },
   "file_extension": ".py",
   "mimetype": "text/x-python",
   "name": "python",
   "nbconvert_exporter": "python",
   "pygments_lexer": "ipython3",
   "version": "3.7.1"
  }
 },
 "nbformat": 4,
 "nbformat_minor": 2
}

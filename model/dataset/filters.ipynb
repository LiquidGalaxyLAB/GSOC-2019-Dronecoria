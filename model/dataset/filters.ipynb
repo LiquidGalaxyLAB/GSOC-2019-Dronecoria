{
 "cells": [
  {
   "cell_type": "markdown",
   "metadata": {},
   "source": [
    "# Apply filter dominating color\n"
   ]
  },
  {
   "cell_type": "code",
   "execution_count": null,
   "metadata": {},
   "outputs": [],
   "source": [
    "import math \n",
    "import statistics\n",
    "import numpy as np\n",
    "from PIL import Image\n",
    "import copy\n",
    "\n",
    "\n",
    "def dominating_color(image, Xblocks, Yblocks, Xnblock, Ynblock, size_block):\n",
    "    max_positions = []\n",
    "    for i in range(size_block*Xnblock, size_block*Xnblock + size_block):\n",
    "        for j in range(size_block*Ynblock, size_block*Ynblock + size_block):\n",
    "            rgb = list(image[i][j])[:3]\n",
    "            max_positions += [rgb.index(max(rgb))]\n",
    "    color_position = np.bincount(max_positions).argmax()\n",
    "    return color_position\n",
    "\n",
    "def get_color_code(image, Xblocks, Yblocks, Xnblock, Ynblock, color_position, size_block, function):\n",
    "    color_code = []\n",
    "    for i in range(size_block*Xnblock, size_block*Xnblock + size_block):\n",
    "        for j in range(size_block*Ynblock, size_block*Ynblock + size_block):\n",
    "            color_code += [image[i][j][color_position]]\n",
    "    return round(function(color_code))\n",
    "\n",
    "def change_color(image, Xblocks, Yblocks,  Xnblock, Ynblock, color_position, size_block, color_code):\n",
    "    minium_colors = list(set([0,1,2])-set([color_position]))\n",
    "    for i in range(size_block*Xnblock, size_block*Xnblock + size_block):\n",
    "        for j in range(size_block*Ynblock, size_block*Ynblock + size_block):\n",
    "            for color in minium_colors:\n",
    "                image[i][j][color] = 0\n",
    "                image[i][j][color] = 0\n",
    "            image[i][j][color_position] = color_code\n",
    "    return image\n",
    "                \n",
    "def apply_filter(array_image, size_block):\n",
    "    image = copy.deepcopy(array_image)\n",
    "    x = image.shape[0]\n",
    "    y = image.shape[1]\n",
    "    Xblocks = math.trunc(x/size_block)\n",
    "    Yblocks = math.trunc(y/size_block)\n",
    "    for Xnblock in range(0, Xblocks):\n",
    "        for Ynblock in range(0, Yblocks):\n",
    "            color_position = dominating_color(image, Xblocks, Yblocks, Xnblock, Ynblock, size_block)\n",
    "            color_code = get_color_code(image, Xblocks, Yblocks, Xnblock, Ynblock, color_position, size_block, lambda x: max(x))\n",
    "            image = change_color(image, Xblocks, Yblocks, Xnblock, Ynblock, color_position, size_block, color_code)\n",
    "    return image"
   ]
  },
  {
   "cell_type": "code",
   "execution_count": null,
   "metadata": {},
   "outputs": [],
   "source": [
    "import glob\n",
    "image_demo = Image.open(\"demo.png\")\n",
    "# image_demo = Image.open(\"real_burnt.jpg\")\n",
    "image_demo"
   ]
  },
  {
   "cell_type": "markdown",
   "metadata": {},
   "source": [
    "# Simulated burnt region"
   ]
  },
  {
   "cell_type": "code",
   "execution_count": null,
   "metadata": {},
   "outputs": [],
   "source": [
    "image_filter = apply_filter(np.array(image_demo), 10)\n",
    "Image.fromarray(image_filter)"
   ]
  },
  {
   "cell_type": "markdown",
   "metadata": {},
   "source": [
    "# Real burnt region"
   ]
  },
  {
   "cell_type": "code",
   "execution_count": null,
   "metadata": {},
   "outputs": [],
   "source": [
    "real_burnt = Image.open(\"real_burnt.jpg\")\n",
    "real_burnt"
   ]
  },
  {
   "cell_type": "code",
   "execution_count": null,
   "metadata": {},
   "outputs": [],
   "source": [
    "real_image_filter = apply_filter(np.array(real_burnt), 15)"
   ]
  },
  {
   "cell_type": "code",
   "execution_count": null,
   "metadata": {},
   "outputs": [],
   "source": [
    "Image.fromarray(image_filter)"
   ]
  },
  {
   "cell_type": "code",
   "execution_count": null,
   "metadata": {},
   "outputs": [],
   "source": [
    "real_image_filter = apply_filter(np.array(real_burnt), 30)\n",
    "Image.fromarray(real_image_filter)"
   ]
  },
  {
   "cell_type": "code",
   "execution_count": null,
   "metadata": {},
   "outputs": [],
   "source": []
  }
 ],
 "metadata": {
  "kernelspec": {
   "display_name": "Python 3",
   "language": "python",
   "name": "python3"
  },
  "language_info": {
   "codemirror_mode": {
    "name": "ipython",
    "version": 3
   },
   "file_extension": ".py",
   "mimetype": "text/x-python",
   "name": "python",
   "nbconvert_exporter": "python",
   "pygments_lexer": "ipython3",
   "version": "3.7.1"
  }
 },
 "nbformat": 4,
 "nbformat_minor": 2
}

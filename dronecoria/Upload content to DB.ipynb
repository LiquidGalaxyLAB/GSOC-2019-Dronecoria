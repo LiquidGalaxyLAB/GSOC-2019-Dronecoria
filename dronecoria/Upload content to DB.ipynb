{
 "cells": [
  {
   "cell_type": "code",
   "execution_count": 1,
   "metadata": {},
   "outputs": [],
   "source": [
    "from django.db import connection,transaction\n",
    "from django.conf import settings\n",
    "import pandas as pd\n",
    "import sqlite3\n",
    "import glob\n",
    "from PIL import Image"
   ]
  },
  {
   "cell_type": "code",
   "execution_count": 22,
   "metadata": {},
   "outputs": [],
   "source": [
    "db = \"db.sqlite3\"\n",
    "connection = sqlite3.connect(db)\n",
    "c = connection.cursor()\n",
    "PATH_DATASET = \"../model/dataset\" "
   ]
  },
  {
   "cell_type": "markdown",
   "metadata": {},
   "source": [
    "### Generate data to fill database"
   ]
  },
  {
   "cell_type": "code",
   "execution_count": null,
   "metadata": {},
   "outputs": [],
   "source": []
  },
  {
   "cell_type": "code",
   "execution_count": 3,
   "metadata": {},
   "outputs": [],
   "source": [
    "kml_images = glob.glob(\"%s/images_located/Captura17.kml\" % PATH_DATASET)\n",
    "images = glob.glob(\"%s/images_located_burnt/Captura17.png\" % PATH_DATASET)\n",
    "df_region_metadata = pd.read_csv(\"%s/regions.csv\" % PATH_DATASET)\n",
    "kml_images.sort()\n",
    "images.sort()"
   ]
  },
  {
   "cell_type": "code",
   "execution_count": null,
   "metadata": {},
   "outputs": [],
   "source": []
  },
  {
   "cell_type": "code",
   "execution_count": 5,
   "metadata": {},
   "outputs": [],
   "source": [
    "def convert_coordinates(coordinates):\n",
    "    new_coordinates = []\n",
    "    coor_0 = coordinates[0].split(',')[:2]\n",
    "    coor_1 = coordinates[1].split(',')[:2]\n",
    "    coor_2 = coordinates[2].split(',')[:2]\n",
    "    coor_3 = coordinates[3].split(',')[:2]\n",
    "    new_coordinates += [coordinates[0]]\n",
    "    new_coordinates += [\"%s,%s,0\" % ((coor_0[0], coor_1[1])) ]\n",
    "    new_coordinates += [\"%s,%s,0\" % ((coor_3[0], coor_1[1])) ]\n",
    "    new_coordinates += [\"%s,%s,0\" % ((coor_3[0], coor_0[1])) ]\n",
    "    return new_coordinates"
   ]
  },
  {
   "cell_type": "code",
   "execution_count": null,
   "metadata": {},
   "outputs": [],
   "source": []
  },
  {
   "cell_type": "code",
   "execution_count": null,
   "metadata": {},
   "outputs": [],
   "source": []
  },
  {
   "cell_type": "code",
   "execution_count": 7,
   "metadata": {},
   "outputs": [],
   "source": [
    "import glob\n",
    "import bs4\n",
    "\n",
    "\n",
    "Image = {'gallery_images':[], 'fCorner':[], 'sCorner':[], 'tCorner':[], 'ftCorner':[], 'burntArea':[], 'img':[] }\n",
    "for i in range(0, 1):\n",
    "    kml = kml_images[i]\n",
    "    with open(kml) as kml_file:\n",
    "        page = kml_file.read()\n",
    "        bs = bs4.BeautifulSoup(page, \"lxml\")\n",
    "        coordinates = bs.document.linearring.findAll(\"coordinates\")[0].text.lstrip().lstrip().rstrip().split(' ')[0:4]\n",
    "        coordinates = convert_coordinates(coordinates)\n",
    "        Image['gallery_images'] += ['Demo Burnt forest %d' % i]\n",
    "        Image['fCorner'] += [coordinates[1]]\n",
    "        Image['sCorner'] += [coordinates[2]]\n",
    "        Image['tCorner'] += [coordinates[3]]\n",
    "        Image['ftCorner'] += [coordinates[0]]\n",
    "        Image['burntArea'] += [0]\n",
    "        Image['img'] += [\"upload_images/%s\"% images[i].split('/')[-1]]"
   ]
  },
  {
   "cell_type": "code",
   "execution_count": null,
   "metadata": {},
   "outputs": [],
   "source": []
  },
  {
   "cell_type": "code",
   "execution_count": 19,
   "metadata": {},
   "outputs": [],
   "source": [
    "Image['gallery_images']= 'Demo forest'"
   ]
  },
  {
   "cell_type": "markdown",
   "metadata": {},
   "source": [
    "### Generate SQL queries"
   ]
  },
  {
   "cell_type": "code",
   "execution_count": 27,
   "metadata": {},
   "outputs": [
    {
     "ename": "ProgrammingError",
     "evalue": "Cannot operate on a closed database.",
     "output_type": "error",
     "traceback": [
      "\u001b[0;31m---------------------------------------------------------------------------\u001b[0m",
      "\u001b[0;31mProgrammingError\u001b[0m                          Traceback (most recent call last)",
      "\u001b[0;32m<ipython-input-27-c3c23f9f5058>\u001b[0m in \u001b[0;36m<module>\u001b[0;34m\u001b[0m\n\u001b[1;32m      1\u001b[0m \u001b[0;34m\u001b[0m\u001b[0m\n\u001b[0;32m----> 2\u001b[0;31m \u001b[0mc\u001b[0m\u001b[0;34m.\u001b[0m\u001b[0mexecute\u001b[0m\u001b[0;34m(\u001b[0m\u001b[0;34m\"SELECT * FROM gsoc2019_gallery ;\"\u001b[0m\u001b[0;34m)\u001b[0m\u001b[0;34m.\u001b[0m\u001b[0mfetchall\u001b[0m\u001b[0;34m(\u001b[0m\u001b[0;34m)\u001b[0m\u001b[0;34m\u001b[0m\u001b[0;34m\u001b[0m\u001b[0m\n\u001b[0m",
      "\u001b[0;31mProgrammingError\u001b[0m: Cannot operate on a closed database."
     ]
    }
   ],
   "source": [
    "\n",
    "c.execute(\"SELECT * FROM gsoc2019_gallery ;\").fetchall()"
   ]
  },
  {
   "cell_type": "code",
   "execution_count": null,
   "metadata": {},
   "outputs": [],
   "source": []
  },
  {
   "cell_type": "code",
   "execution_count": 23,
   "metadata": {},
   "outputs": [],
   "source": [
    "for i in range(0, 1):\n",
    "    c.execute(\"INSERT INTO gsoc2019_gallery (name) VALUES (?);\" , (Image['gallery_images'][i],))\n"
   ]
  },
  {
   "cell_type": "code",
   "execution_count": 25,
   "metadata": {},
   "outputs": [],
   "source": [
    "for i in range(0, 1):\n",
    "    c.execute(\"INSERT INTO gsoc2019_image VALUES (?, ?, ?, ?, ?, ?, ?, ?);\" , ((12310),\n",
    "                                                                                             Image['fCorner'][i],\n",
    "                                                                                             Image['sCorner'][i],\n",
    "                                                                                             Image['tCorner'][i],\n",
    "                                                                                             Image['ftCorner'][i],\n",
    "                                                                                             Image['img'][i],\n",
    "                                                                                             Image['gallery_images'][i],\n",
    "                                                                                             Image['burntArea'][i],))\n",
    "\n"
   ]
  },
  {
   "cell_type": "code",
   "execution_count": 13,
   "metadata": {},
   "outputs": [
    {
     "data": {
      "text/plain": [
       "<module 'PIL.Image' from '/Users/Marcelpv96/anaconda3/lib/python3.7/site-packages/PIL/Image.py'>"
      ]
     },
     "execution_count": 13,
     "metadata": {},
     "output_type": "execute_result"
    }
   ],
   "source": [
    "c.execute(\"INSERT INTO gsoc2019_image VALUES (?, ?, ?, ?, ?, ?, ?, ?);\" , ((100),  '0.7793753075876952,42.04689302307633,0',\n",
    "    '0.7920521003639958,42.04689302307633,0',\n",
    "  '0.7920521003639958,42.05406437718434,0',\n",
    "  '0.7793753075876952,42.05406437718434,0',\n",
    "  'upload_images/Captura13.png',\n",
    "  'Demo Burnt forest 4',\n",
    "                                                                           \n",
    "\n",
    "\n"
   ]
  },
  {
   "cell_type": "markdown",
   "metadata": {},
   "source": [
    "### Save the changes"
   ]
  },
  {
   "cell_type": "code",
   "execution_count": 26,
   "metadata": {},
   "outputs": [],
   "source": [
    "connection.commit()\n",
    "connection.close()"
   ]
  }
 ],
 "metadata": {
  "kernelspec": {
   "display_name": "Python 3",
   "language": "python",
   "name": "python3"
  },
  "language_info": {
   "codemirror_mode": {
    "name": "ipython",
    "version": 3
   },
   "file_extension": ".py",
   "mimetype": "text/x-python",
   "name": "python",
   "nbconvert_exporter": "python",
   "pygments_lexer": "ipython3",
   "version": "3.7.1"
  }
 },
 "nbformat": 4,
 "nbformat_minor": 2
}
